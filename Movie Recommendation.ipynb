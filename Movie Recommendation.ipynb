{
 "cells": [
  {
   "cell_type": "code",
   "execution_count": 1,
   "id": "a014575b",
   "metadata": {},
   "outputs": [],
   "source": [
    "# Importing necessary libraries\n",
    "import numpy as np\n",
    "import pandas as pd\n",
    "import difflib\n",
    "from sklearn.feature_extraction.text import TfidfVectorizer\n",
    "from sklearn.metrics.pairwise import cosine_similarity\n",
    "import os"
   ]
  },
  {
   "cell_type": "code",
   "execution_count": 2,
   "id": "77ca7166",
   "metadata": {},
   "outputs": [
    {
     "name": "stdout",
     "output_type": "stream",
     "text": [
      "Movies Data Head:\n",
      "    index     budget                                    genres  \\\n",
      "0      0  237000000  Action Adventure Fantasy Science Fiction   \n",
      "1      1  300000000                  Adventure Fantasy Action   \n",
      "2      2  245000000                    Action Adventure Crime   \n",
      "3      3  250000000               Action Crime Drama Thriller   \n",
      "4      4  260000000          Action Adventure Science Fiction   \n",
      "\n",
      "                                       homepage      id  \\\n",
      "0                   http://www.avatarmovie.com/   19995   \n",
      "1  http://disney.go.com/disneypictures/pirates/     285   \n",
      "2   http://www.sonypictures.com/movies/spectre/  206647   \n",
      "3            http://www.thedarkknightrises.com/   49026   \n",
      "4          http://movies.disney.com/john-carter   49529   \n",
      "\n",
      "                                            keywords original_language  \\\n",
      "0  culture clash future space war space colony so...                en   \n",
      "1  ocean drug abuse exotic island east india trad...                en   \n",
      "2         spy based on novel secret agent sequel mi6                en   \n",
      "3  dc comics crime fighter terrorist secret ident...                en   \n",
      "4  based on novel mars medallion space travel pri...                en   \n",
      "\n",
      "                             original_title  \\\n",
      "0                                    Avatar   \n",
      "1  Pirates of the Caribbean: At World's End   \n",
      "2                                   Spectre   \n",
      "3                     The Dark Knight Rises   \n",
      "4                               John Carter   \n",
      "\n",
      "                                            overview  popularity  ... runtime  \\\n",
      "0  In the 22nd century, a paraplegic Marine is di...  150.437577  ...   162.0   \n",
      "1  Captain Barbossa, long believed to be dead, ha...  139.082615  ...   169.0   \n",
      "2  A cryptic message from Bond’s past sends him o...  107.376788  ...   148.0   \n",
      "3  Following the death of District Attorney Harve...  112.312950  ...   165.0   \n",
      "4  John Carter is a war-weary, former military ca...   43.926995  ...   132.0   \n",
      "\n",
      "                                    spoken_languages    status  \\\n",
      "0  [{\"iso_639_1\": \"en\", \"name\": \"English\"}, {\"iso...  Released   \n",
      "1           [{\"iso_639_1\": \"en\", \"name\": \"English\"}]  Released   \n",
      "2  [{\"iso_639_1\": \"fr\", \"name\": \"Fran\\u00e7ais\"},...  Released   \n",
      "3           [{\"iso_639_1\": \"en\", \"name\": \"English\"}]  Released   \n",
      "4           [{\"iso_639_1\": \"en\", \"name\": \"English\"}]  Released   \n",
      "\n",
      "                                          tagline  \\\n",
      "0                     Enter the World of Pandora.   \n",
      "1  At the end of the world, the adventure begins.   \n",
      "2                           A Plan No One Escapes   \n",
      "3                                 The Legend Ends   \n",
      "4            Lost in our world, found in another.   \n",
      "\n",
      "                                      title vote_average vote_count  \\\n",
      "0                                    Avatar          7.2      11800   \n",
      "1  Pirates of the Caribbean: At World's End          6.9       4500   \n",
      "2                                   Spectre          6.3       4466   \n",
      "3                     The Dark Knight Rises          7.6       9106   \n",
      "4                               John Carter          6.1       2124   \n",
      "\n",
      "                                                cast  \\\n",
      "0  Sam Worthington Zoe Saldana Sigourney Weaver S...   \n",
      "1  Johnny Depp Orlando Bloom Keira Knightley Stel...   \n",
      "2  Daniel Craig Christoph Waltz L\\u00e9a Seydoux ...   \n",
      "3  Christian Bale Michael Caine Gary Oldman Anne ...   \n",
      "4  Taylor Kitsch Lynn Collins Samantha Morton Wil...   \n",
      "\n",
      "                                                crew           director  \n",
      "0  [{'name': 'Stephen E. Rivkin', 'gender': 0, 'd...      James Cameron  \n",
      "1  [{'name': 'Dariusz Wolski', 'gender': 2, 'depa...     Gore Verbinski  \n",
      "2  [{'name': 'Thomas Newman', 'gender': 2, 'depar...         Sam Mendes  \n",
      "3  [{'name': 'Hans Zimmer', 'gender': 2, 'departm...  Christopher Nolan  \n",
      "4  [{'name': 'Andrew Stanton', 'gender': 2, 'depa...     Andrew Stanton  \n",
      "\n",
      "[5 rows x 24 columns]\n",
      "Shape of the Dataset: (4803, 24)\n"
     ]
    }
   ],
   "source": [
    "# Load the movies data\n",
    "movies_data =pd.read_csv('G:/Movie Recommendation System/movies.csv')\n",
    "\n",
    "# Display the first few rows of the dataset\n",
    "print(\"Movies Data Head:\\n\", movies_data.head())\n",
    "\n",
    "# Display the shape of the dataset\n",
    "print(\"Shape of the Dataset:\", movies_data.shape)"
   ]
  },
  {
   "cell_type": "code",
   "execution_count": 3,
   "id": "5bc03003",
   "metadata": {},
   "outputs": [
    {
     "name": "stdout",
     "output_type": "stream",
     "text": [
      "Selected Features: ['genres', 'keywords', 'tagline', 'cast', 'director']\n"
     ]
    }
   ],
   "source": [
    "# Selecting relevant features for the recommendation system\n",
    "selected_features = ['genres', 'keywords', 'tagline', 'cast', 'director']\n",
    "print(\"Selected Features:\", selected_features)"
   ]
  },
  {
   "cell_type": "code",
   "execution_count": 4,
   "id": "b28d26eb",
   "metadata": {},
   "outputs": [
    {
     "name": "stdout",
     "output_type": "stream",
     "text": [
      "<class 'pandas.core.frame.DataFrame'>\n",
      "RangeIndex: 4803 entries, 0 to 4802\n",
      "Data columns (total 24 columns):\n",
      " #   Column                Non-Null Count  Dtype  \n",
      "---  ------                --------------  -----  \n",
      " 0   index                 4803 non-null   int64  \n",
      " 1   budget                4803 non-null   int64  \n",
      " 2   genres                4775 non-null   object \n",
      " 3   homepage              1712 non-null   object \n",
      " 4   id                    4803 non-null   int64  \n",
      " 5   keywords              4391 non-null   object \n",
      " 6   original_language     4803 non-null   object \n",
      " 7   original_title        4803 non-null   object \n",
      " 8   overview              4800 non-null   object \n",
      " 9   popularity            4803 non-null   float64\n",
      " 10  production_companies  4803 non-null   object \n",
      " 11  production_countries  4803 non-null   object \n",
      " 12  release_date          4802 non-null   object \n",
      " 13  revenue               4803 non-null   int64  \n",
      " 14  runtime               4801 non-null   float64\n",
      " 15  spoken_languages      4803 non-null   object \n",
      " 16  status                4803 non-null   object \n",
      " 17  tagline               3959 non-null   object \n",
      " 18  title                 4803 non-null   object \n",
      " 19  vote_average          4803 non-null   float64\n",
      " 20  vote_count            4803 non-null   int64  \n",
      " 21  cast                  4760 non-null   object \n",
      " 22  crew                  4803 non-null   object \n",
      " 23  director              4773 non-null   object \n",
      "dtypes: float64(3), int64(5), object(16)\n",
      "memory usage: 900.7+ KB\n",
      "Movies Data Info:\n",
      " None\n",
      "Null Values in Dataset:\n",
      " index                      0\n",
      "budget                     0\n",
      "genres                    28\n",
      "homepage                3091\n",
      "id                         0\n",
      "keywords                 412\n",
      "original_language          0\n",
      "original_title             0\n",
      "overview                   3\n",
      "popularity                 0\n",
      "production_companies       0\n",
      "production_countries       0\n",
      "release_date               1\n",
      "revenue                    0\n",
      "runtime                    2\n",
      "spoken_languages           0\n",
      "status                     0\n",
      "tagline                  844\n",
      "title                      0\n",
      "vote_average               0\n",
      "vote_count                 0\n",
      "cast                      43\n",
      "crew                       0\n",
      "director                  30\n",
      "dtype: int64\n",
      "Selected Columns Head:\n",
      "                                      genres  \\\n",
      "0  Action Adventure Fantasy Science Fiction   \n",
      "1                  Adventure Fantasy Action   \n",
      "2                    Action Adventure Crime   \n",
      "3               Action Crime Drama Thriller   \n",
      "4          Action Adventure Science Fiction   \n",
      "\n",
      "                                            keywords  \\\n",
      "0  culture clash future space war space colony so...   \n",
      "1  ocean drug abuse exotic island east india trad...   \n",
      "2         spy based on novel secret agent sequel mi6   \n",
      "3  dc comics crime fighter terrorist secret ident...   \n",
      "4  based on novel mars medallion space travel pri...   \n",
      "\n",
      "                                          tagline  \\\n",
      "0                     Enter the World of Pandora.   \n",
      "1  At the end of the world, the adventure begins.   \n",
      "2                           A Plan No One Escapes   \n",
      "3                                 The Legend Ends   \n",
      "4            Lost in our world, found in another.   \n",
      "\n",
      "                                                cast           director  \n",
      "0  Sam Worthington Zoe Saldana Sigourney Weaver S...      James Cameron  \n",
      "1  Johnny Depp Orlando Bloom Keira Knightley Stel...     Gore Verbinski  \n",
      "2  Daniel Craig Christoph Waltz L\\u00e9a Seydoux ...         Sam Mendes  \n",
      "3  Christian Bale Michael Caine Gary Oldman Anne ...  Christopher Nolan  \n",
      "4  Taylor Kitsch Lynn Collins Samantha Morton Wil...     Andrew Stanton  \n"
     ]
    }
   ],
   "source": [
    "# Display information about the dataset\n",
    "print(\"Movies Data Info:\\n\", movies_data.info())\n",
    "\n",
    "# Check for null values in the dataset\n",
    "print(\"Null Values in Dataset:\\n\", movies_data.isna().sum())\n",
    "\n",
    "# Display the selected columns\n",
    "print(\"Selected Columns Head:\\n\", movies_data[selected_features].head())\n"
   ]
  },
  {
   "cell_type": "code",
   "execution_count": 5,
   "id": "63a9ad4a",
   "metadata": {},
   "outputs": [
    {
     "name": "stdout",
     "output_type": "stream",
     "text": [
      "Null Values in Selected Columns:\n",
      " genres       28\n",
      "keywords    412\n",
      "tagline     844\n",
      "cast         43\n",
      "director     30\n",
      "dtype: int64\n",
      "Updated Movies Data Head:\n",
      "    index     budget                                    genres  \\\n",
      "0      0  237000000  Action Adventure Fantasy Science Fiction   \n",
      "1      1  300000000                  Adventure Fantasy Action   \n",
      "2      2  245000000                    Action Adventure Crime   \n",
      "3      3  250000000               Action Crime Drama Thriller   \n",
      "4      4  260000000          Action Adventure Science Fiction   \n",
      "\n",
      "                                       homepage      id  \\\n",
      "0                   http://www.avatarmovie.com/   19995   \n",
      "1  http://disney.go.com/disneypictures/pirates/     285   \n",
      "2   http://www.sonypictures.com/movies/spectre/  206647   \n",
      "3            http://www.thedarkknightrises.com/   49026   \n",
      "4          http://movies.disney.com/john-carter   49529   \n",
      "\n",
      "                                            keywords original_language  \\\n",
      "0  culture clash future space war space colony so...                en   \n",
      "1  ocean drug abuse exotic island east india trad...                en   \n",
      "2         spy based on novel secret agent sequel mi6                en   \n",
      "3  dc comics crime fighter terrorist secret ident...                en   \n",
      "4  based on novel mars medallion space travel pri...                en   \n",
      "\n",
      "                             original_title  \\\n",
      "0                                    Avatar   \n",
      "1  Pirates of the Caribbean: At World's End   \n",
      "2                                   Spectre   \n",
      "3                     The Dark Knight Rises   \n",
      "4                               John Carter   \n",
      "\n",
      "                                            overview  popularity  ... runtime  \\\n",
      "0  In the 22nd century, a paraplegic Marine is di...  150.437577  ...   162.0   \n",
      "1  Captain Barbossa, long believed to be dead, ha...  139.082615  ...   169.0   \n",
      "2  A cryptic message from Bond’s past sends him o...  107.376788  ...   148.0   \n",
      "3  Following the death of District Attorney Harve...  112.312950  ...   165.0   \n",
      "4  John Carter is a war-weary, former military ca...   43.926995  ...   132.0   \n",
      "\n",
      "                                    spoken_languages    status  \\\n",
      "0  [{\"iso_639_1\": \"en\", \"name\": \"English\"}, {\"iso...  Released   \n",
      "1           [{\"iso_639_1\": \"en\", \"name\": \"English\"}]  Released   \n",
      "2  [{\"iso_639_1\": \"fr\", \"name\": \"Fran\\u00e7ais\"},...  Released   \n",
      "3           [{\"iso_639_1\": \"en\", \"name\": \"English\"}]  Released   \n",
      "4           [{\"iso_639_1\": \"en\", \"name\": \"English\"}]  Released   \n",
      "\n",
      "                                          tagline  \\\n",
      "0                     Enter the World of Pandora.   \n",
      "1  At the end of the world, the adventure begins.   \n",
      "2                           A Plan No One Escapes   \n",
      "3                                 The Legend Ends   \n",
      "4            Lost in our world, found in another.   \n",
      "\n",
      "                                      title vote_average vote_count  \\\n",
      "0                                    Avatar          7.2      11800   \n",
      "1  Pirates of the Caribbean: At World's End          6.9       4500   \n",
      "2                                   Spectre          6.3       4466   \n",
      "3                     The Dark Knight Rises          7.6       9106   \n",
      "4                               John Carter          6.1       2124   \n",
      "\n",
      "                                                cast  \\\n",
      "0  Sam Worthington Zoe Saldana Sigourney Weaver S...   \n",
      "1  Johnny Depp Orlando Bloom Keira Knightley Stel...   \n",
      "2  Daniel Craig Christoph Waltz L\\u00e9a Seydoux ...   \n",
      "3  Christian Bale Michael Caine Gary Oldman Anne ...   \n",
      "4  Taylor Kitsch Lynn Collins Samantha Morton Wil...   \n",
      "\n",
      "                                                crew           director  \n",
      "0  [{'name': 'Stephen E. Rivkin', 'gender': 0, 'd...      James Cameron  \n",
      "1  [{'name': 'Dariusz Wolski', 'gender': 2, 'depa...     Gore Verbinski  \n",
      "2  [{'name': 'Thomas Newman', 'gender': 2, 'depar...         Sam Mendes  \n",
      "3  [{'name': 'Hans Zimmer', 'gender': 2, 'departm...  Christopher Nolan  \n",
      "4  [{'name': 'Andrew Stanton', 'gender': 2, 'depa...     Andrew Stanton  \n",
      "\n",
      "[5 rows x 24 columns]\n"
     ]
    }
   ],
   "source": [
    "# Check for null values in the selected columns\n",
    "print(\"Null Values in Selected Columns:\\n\", movies_data[selected_features].isna().sum())\n",
    "\n",
    "# Replacing the null values with an empty string\n",
    "for feature in selected_features:\n",
    "    movies_data[feature] = movies_data[feature].fillna('')\n",
    "\n",
    "# Display the first few rows of the updated dataset\n",
    "print(\"Updated Movies Data Head:\\n\", movies_data.head())\n"
   ]
  },
  {
   "cell_type": "code",
   "execution_count": 6,
   "id": "7afd9d44",
   "metadata": {},
   "outputs": [
    {
     "name": "stdout",
     "output_type": "stream",
     "text": [
      "Combined Features:\n",
      " 0       Action Adventure Fantasy Science Fiction cultu...\n",
      "1       Adventure Fantasy Action ocean drug abuse exot...\n",
      "2       Action Adventure Crime spy based on novel secr...\n",
      "3       Action Crime Drama Thriller dc comics crime fi...\n",
      "4       Action Adventure Science Fiction based on nove...\n",
      "                              ...                        \n",
      "4798    Action Crime Thriller united states\\u2013mexic...\n",
      "4799    Comedy Romance  A newlywed couple's honeymoon ...\n",
      "4800    Comedy Drama Romance TV Movie date love at fir...\n",
      "4801      A New Yorker in Shanghai Daniel Henney Eliza...\n",
      "4802    Documentary obsession camcorder crush dream gi...\n",
      "Length: 4803, dtype: object\n"
     ]
    }
   ],
   "source": [
    "# Combining all the selected features into a single string\n",
    "combined_features = movies_data['genres'] + ' ' + movies_data['keywords'] + ' ' + movies_data['tagline'] + ' ' + movies_data['cast'] + ' ' + movies_data['director']\n",
    "print(\"Combined Features:\\n\", combined_features)\n"
   ]
  },
  {
   "cell_type": "code",
   "execution_count": 7,
   "id": "e0aec5d5",
   "metadata": {},
   "outputs": [],
   "source": [
    "# Converting the text data to feature vectors using TF-IDF Vectorizer\n",
    "vectorizer = TfidfVectorizer()\n",
    "feature_vectors = vectorizer.fit_transform(combined_features)"
   ]
  },
  {
   "cell_type": "code",
   "execution_count": 8,
   "id": "6cfc822c",
   "metadata": {},
   "outputs": [
    {
     "name": "stdout",
     "output_type": "stream",
     "text": [
      "Shape of Feature Vectors: (4803, 17318)\n"
     ]
    }
   ],
   "source": [
    "# Display the shape of the feature vectors\n",
    "print(\"Shape of Feature Vectors:\", feature_vectors.shape)"
   ]
  },
  {
   "cell_type": "code",
   "execution_count": 9,
   "id": "06d75567",
   "metadata": {},
   "outputs": [],
   "source": [
    "# Calculate the cosine similarity between the feature vectors\n",
    "similarity = cosine_similarity(feature_vectors)"
   ]
  },
  {
   "cell_type": "code",
   "execution_count": 10,
   "id": "cd5edb28",
   "metadata": {},
   "outputs": [
    {
     "name": "stdout",
     "output_type": "stream",
     "text": [
      "Shape of Cosine Similarity Matrix: (4803, 4803)\n"
     ]
    }
   ],
   "source": [
    "# Display the shape of the similarity matrix\n",
    "print(\"Shape of Cosine Similarity Matrix:\", similarity.shape)\n"
   ]
  },
  {
   "cell_type": "code",
   "execution_count": 11,
   "id": "6db072ff",
   "metadata": {},
   "outputs": [
    {
     "name": "stdout",
     "output_type": "stream",
     "text": [
      "Enter your favourite movie name: Avatar\n"
     ]
    }
   ],
   "source": [
    "# Get the movie name from the user\n",
    "movie_name = input('Enter your favourite movie name: ')"
   ]
  },
  {
   "cell_type": "code",
   "execution_count": 12,
   "id": "c3c85284",
   "metadata": {},
   "outputs": [],
   "source": [
    "# Create a list with all the movie names from the dataset\n",
    "list_of_all_titles = movies_data['title'].tolist()\n",
    "\n",
    "# Find the closest match for the movie name given by the user\n",
    "find_close_match = difflib.get_close_matches(movie_name, list_of_all_titles)"
   ]
  },
  {
   "cell_type": "code",
   "execution_count": 13,
   "id": "c7d0bd56",
   "metadata": {},
   "outputs": [
    {
     "name": "stdout",
     "output_type": "stream",
     "text": [
      "Close Match Found: Avatar\n",
      "Index of the Movie: 0\n",
      "Movies suggested for you:\n",
      "\n",
      "1. Alien\n",
      "2. Aliens\n",
      "3. Guardians of the Galaxy\n",
      "4. Star Trek Beyond\n",
      "5. Star Trek Into Darkness\n",
      "6. Galaxy Quest\n",
      "7. Alien³\n",
      "8. Cargo\n",
      "9. Trekkies\n",
      "10. Gravity\n",
      "11. Moonraker\n",
      "12. Jason X\n",
      "13. Pocahontas\n",
      "14. Space Cowboys\n",
      "15. The Helix... Loaded\n",
      "16. Lockout\n",
      "17. Event Horizon\n",
      "18. Space Dogs\n",
      "19. Machete Kills\n",
      "20. Gettysburg\n",
      "21. Clash of the Titans\n",
      "22. Star Wars: Clone Wars: Volume 1\n",
      "23. The Right Stuff\n",
      "24. Terminator Salvation\n",
      "25. The Astronaut's Wife\n",
      "26. Planet of the Apes\n",
      "27. Star Trek\n",
      "28. Wing Commander\n",
      "29. Sunshine\n",
      "30. The Terminator\n"
     ]
    }
   ],
   "source": [
    "# If a close match is found, use the first match\n",
    "if find_close_match:\n",
    "    close_match = find_close_match[0]\n",
    "    print(\"Close Match Found:\", close_match)\n",
    "\n",
    "    # Find the index of the movie with the closest match\n",
    "    index_of_the_movie = movies_data[movies_data.title == close_match].index[0]\n",
    "    print(\"Index of the Movie:\", index_of_the_movie)\n",
    "\n",
    "    # Get the similarity scores for the movie\n",
    "    similarity_score = list(enumerate(similarity[index_of_the_movie]))\n",
    "\n",
    "    # Sort the movies based on their similarity score\n",
    "    sorted_similar_movies = sorted(similarity_score, key=lambda x: x[1], reverse=True)\n",
    "\n",
    "    # Print the top 30 similar movies\n",
    "    print('Movies suggested for you:\\n')\n",
    "    i = 1\n",
    "    for movie in sorted_similar_movies[1:31]:  # Skipping the first one as it is the same movie\n",
    "        index = movie[0]\n",
    "        title_from_index = movies_data.iloc[index]['title']\n",
    "        print(f\"{i}. {title_from_index}\")\n",
    "        i += 1\n",
    "else:\n",
    "    print(\"No close match found. Please try another movie name.\")\n"
   ]
  },
  {
   "cell_type": "code",
   "execution_count": null,
   "id": "d7705cb2",
   "metadata": {},
   "outputs": [],
   "source": []
  }
 ],
 "metadata": {
  "kernelspec": {
   "display_name": "Python 3 (ipykernel)",
   "language": "python",
   "name": "python3"
  },
  "language_info": {
   "codemirror_mode": {
    "name": "ipython",
    "version": 3
   },
   "file_extension": ".py",
   "mimetype": "text/x-python",
   "name": "python",
   "nbconvert_exporter": "python",
   "pygments_lexer": "ipython3",
   "version": "3.11.5"
  }
 },
 "nbformat": 4,
 "nbformat_minor": 5
}
